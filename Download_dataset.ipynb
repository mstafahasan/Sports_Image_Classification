{
 "cells": [
  {
   "cell_type": "code",
   "execution_count": null,
   "id": "6f28d6be-5328-4730-80c8-cf58f2efe4ee",
   "metadata": {},
   "outputs": [],
   "source": []
  }
 ],
 "metadata": {
  "kernelspec": {
   "display_name": "",
   "name": ""
  },
  "language_info": {
   "name": ""
  }
 },
 "nbformat": 4,
 "nbformat_minor": 5
}
